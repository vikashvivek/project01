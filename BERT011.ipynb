{
  "nbformat": 4,
  "nbformat_minor": 0,
  "metadata": {
    "colab": {
      "provenance": [],
      "private_outputs": true,
      "authorship_tag": "ABX9TyM966l7YpJwhNY0HZCr666E",
      "include_colab_link": true
    },
    "kernelspec": {
      "name": "python3",
      "display_name": "Python 3"
    },
    "language_info": {
      "name": "python"
    },
    "accelerator": "GPU",
    "gpuClass": "standard"
  },
  "cells": [
    {
      "cell_type": "markdown",
      "metadata": {
        "id": "view-in-github",
        "colab_type": "text"
      },
      "source": [
        "<a href=\"https://colab.research.google.com/github/vikashvivek/project01/blob/main/BERT011.ipynb\" target=\"_parent\"><img src=\"https://colab.research.google.com/assets/colab-badge.svg\" alt=\"Open In Colab\"/></a>"
      ]
    },
    {
      "cell_type": "code",
      "execution_count": null,
      "metadata": {
        "id": "o9dm-oXhgo3p"
      },
      "outputs": [],
      "source": [
        "!pip install simpletransformers"
      ]
    },
    {
      "cell_type": "code",
      "source": [
        "import json\n",
        "with open(r\"train.json\", \"r\") as read_file:\n",
        "    train = json.load(read_file)"
      ],
      "metadata": {
        "id": "PbmwKcZbjEh1"
      },
      "execution_count": null,
      "outputs": []
    },
    {
      "cell_type": "code",
      "source": [
        "train"
      ],
      "metadata": {
        "id": "95rEuZlNjxm_"
      },
      "execution_count": null,
      "outputs": []
    },
    {
      "cell_type": "code",
      "source": [
        "with open(r\"test.json\", \"r\") as read_file:\n",
        "    test = json.load(read_file)"
      ],
      "metadata": {
        "id": "b3Iky_sJj7RG"
      },
      "execution_count": null,
      "outputs": []
    },
    {
      "cell_type": "code",
      "source": [
        "test"
      ],
      "metadata": {
        "id": "WLgJJhzCj_Yn"
      },
      "execution_count": null,
      "outputs": []
    },
    {
      "cell_type": "code",
      "source": [
        "import logging\n",
        "\n",
        "from simpletransformers.question_answering import QuestionAnsweringModel, QuestionAnsweringArgs"
      ],
      "metadata": {
        "id": "KkQ5krFHkCap"
      },
      "execution_count": null,
      "outputs": []
    },
    {
      "cell_type": "code",
      "source": [
        "model_type=\"bert\"\n",
        "model_name= \"bert-base-cased\"\n",
        "if model_type == \"bert\":\n",
        "    model_name = \"bert-base-cased\"\n",
        "\n",
        "elif model_type == \"roberta\":\n",
        "    model_name = \"roberta-base\"\n",
        "\n",
        "elif model_type == \"distilbert\":\n",
        "    model_name = \"distilbert-base-cased\"\n",
        "\n",
        "elif model_type == \"distilroberta\":\n",
        "    model_type = \"roberta\"\n",
        "    model_name = \"distilroberta-base\"\n",
        "\n",
        "elif model_type == \"electra-base\":\n",
        "    model_type = \"electra\"\n",
        "    model_name = \"google/electra-base-discriminator\"\n",
        "\n",
        "elif model_type == \"electra-small\":\n",
        "    model_type = \"electra\"\n",
        "    model_name = \"google/electra-small-discriminator\"\n",
        "\n",
        "elif model_type == \"xlnet\":\n",
        "    model_name = \"xlnet-base-cased\""
      ],
      "metadata": {
        "id": "ioqzbEazkMFM"
      },
      "execution_count": null,
      "outputs": []
    },
    {
      "cell_type": "code",
      "source": [
        "!pip install wandb"
      ],
      "metadata": {
        "id": "edVwof3lyTdH"
      },
      "execution_count": null,
      "outputs": []
    },
    {
      "cell_type": "code",
      "source": [
        "model_args = QuestionAnsweringArgs()\n",
        "model_args.train_batch_size = 16\n",
        "model_args.evaluate_during_training = True\n",
        "model_args.n_best_size=1\n",
        "model_args.num_train_epochs=5"
      ],
      "metadata": {
        "id": "B_VCYxx4mfWg"
      },
      "execution_count": null,
      "outputs": []
    },
    {
      "cell_type": "code",
      "source": [
        "train_args = {\n",
        "    \"reprocess_input_data\": True,\n",
        "    \"overwrite_output_dir\": True,\n",
        "    \"use_cached_eval_features\": True,\n",
        "    \"output_dir\": f\"outputs/{model_type}\",\n",
        "    \"best_model_dir\": f\"outputs/{model_type}/best_model\",\n",
        "    \"evaluate_during_training\": True,\n",
        "    \"max_seq_length\": 128,\n",
        "    \"num_train_epochs\": 50,\n",
        "    \"evaluate_during_training_steps\": 1000,\n",
        "    \"wandb_project\": \"chat bot\",\n",
        "    \"wandb_kwargs\": {\"name\": model_name},\n",
        "    \"save_model_every_epoch\": False,\n",
        "    \"save_eval_checkpoints\": False,\n",
        "    \"n_best_size\":1,\n",
        "    # \"use_early_stopping\": True,\n",
        "    # \"early_stopping_metric\": \"mcc\",\n",
        "    # \"n_gpu\": 2,\n",
        "    # \"manual_seed\": 4,\n",
        "    # \"use_multiprocessing\": False,\n",
        "    \"train_batch_size\": 128,\n",
        "    \"eval_batch_size\": 64,\n",
        "    # \"config\": {\n",
        "    #     \"output_hidden_states\": True\n",
        "    # }\n",
        "}"
      ],
      "metadata": {
        "id": "B31JnsOsnssr"
      },
      "execution_count": null,
      "outputs": []
    },
    {
      "cell_type": "code",
      "source": [
        "model = QuestionAnsweringModel(\n",
        "    model_type,model_name, args=train_args,use_cuda= False\n",
        ")"
      ],
      "metadata": {
        "id": "Ao3Fl1DfkcOu"
      },
      "execution_count": null,
      "outputs": []
    },
    {
      "cell_type": "code",
      "source": [
        "!rm -rf outputs"
      ],
      "metadata": {
        "id": "jNi_-Mus1ULr"
      },
      "execution_count": null,
      "outputs": []
    },
    {
      "cell_type": "code",
      "source": [
        "model.train_model(train, eval_data=test)"
      ],
      "metadata": {
        "id": "e3Qaigs7ovYk"
      },
      "execution_count": null,
      "outputs": []
    },
    {
      "cell_type": "code",
      "source": [
        "result, texts = model.eval_model(test)"
      ],
      "metadata": {
        "id": "PcU3rDEKlqYU"
      },
      "execution_count": null,
      "outputs": []
    },
    {
      "cell_type": "code",
      "source": [
        "result"
      ],
      "metadata": {
        "id": "BLR4mUur12lp"
      },
      "execution_count": null,
      "outputs": []
    },
    {
      "cell_type": "code",
      "source": [
        "to_predict = [\n",
        "    {\n",
        "        \"context\": \"notification  means a notification published in the Official Gazette and the expression  notified  with its cognate meanings and grammatical variations shall be construed accordingly\",\n",
        "        \"qas\": [\n",
        "            {\n",
        "                \"question\": \"What means a notification mean?\",\n",
        "                \"id\": \"0\",\n",
        "            }\n",
        "        ],\n",
        "    }\n",
        "]"
      ],
      "metadata": {
        "id": "D1k595yd14iw"
      },
      "execution_count": null,
      "outputs": []
    },
    {
      "cell_type": "code",
      "source": [
        "answers, probabilities = model.predict(to_predict)\n",
        "\n",
        "print(answers)"
      ],
      "metadata": {
        "id": "2OCDFqx42Hel"
      },
      "execution_count": null,
      "outputs": []
    },
    {
      "cell_type": "code",
      "source": [],
      "metadata": {
        "id": "iIbxJLWjgVWO"
      },
      "execution_count": null,
      "outputs": []
    }
  ]
}